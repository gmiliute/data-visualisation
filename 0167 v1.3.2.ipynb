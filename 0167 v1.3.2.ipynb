{
 "cells": [
  {
   "cell_type": "code",
   "execution_count": 3,
   "id": "fddf8436",
   "metadata": {},
   "outputs": [
    {
     "name": "stdout",
     "output_type": "stream",
     "text": [
      "Requirement already satisfied: numpy in /Users/main/miniconda3/envs/tensorflow/lib/python3.10/site-packages (1.23.5)\n",
      "Requirement already satisfied: pandas in /Users/main/miniconda3/envs/tensorflow/lib/python3.10/site-packages (2.0.1)\n",
      "Requirement already satisfied: matplotlib in /Users/main/miniconda3/envs/tensorflow/lib/python3.10/site-packages (3.7.1)\n",
      "Requirement already satisfied: plotly in /Users/main/miniconda3/envs/tensorflow/lib/python3.10/site-packages (5.18.0)\n",
      "Requirement already satisfied: seaborn in /Users/main/miniconda3/envs/tensorflow/lib/python3.10/site-packages (0.12.2)\n",
      "Requirement already satisfied: jupyter_contrib_nbextensions in /Users/main/miniconda3/envs/tensorflow/lib/python3.10/site-packages (0.7.0)\n",
      "Requirement already satisfied: python-dateutil>=2.8.2 in /Users/main/miniconda3/envs/tensorflow/lib/python3.10/site-packages (from pandas) (2.8.2)\n",
      "Requirement already satisfied: pytz>=2020.1 in /Users/main/miniconda3/envs/tensorflow/lib/python3.10/site-packages (from pandas) (2023.3)\n",
      "Requirement already satisfied: tzdata>=2022.1 in /Users/main/miniconda3/envs/tensorflow/lib/python3.10/site-packages (from pandas) (2023.3)\n",
      "Requirement already satisfied: contourpy>=1.0.1 in /Users/main/miniconda3/envs/tensorflow/lib/python3.10/site-packages (from matplotlib) (1.0.7)\n",
      "Requirement already satisfied: cycler>=0.10 in /Users/main/miniconda3/envs/tensorflow/lib/python3.10/site-packages (from matplotlib) (0.11.0)\n",
      "Requirement already satisfied: fonttools>=4.22.0 in /Users/main/miniconda3/envs/tensorflow/lib/python3.10/site-packages (from matplotlib) (4.39.3)\n",
      "Requirement already satisfied: kiwisolver>=1.0.1 in /Users/main/miniconda3/envs/tensorflow/lib/python3.10/site-packages (from matplotlib) (1.4.4)\n",
      "Requirement already satisfied: packaging>=20.0 in /Users/main/miniconda3/envs/tensorflow/lib/python3.10/site-packages (from matplotlib) (23.1)\n",
      "Requirement already satisfied: pillow>=6.2.0 in /Users/main/miniconda3/envs/tensorflow/lib/python3.10/site-packages (from matplotlib) (9.5.0)\n",
      "Requirement already satisfied: pyparsing>=2.3.1 in /Users/main/miniconda3/envs/tensorflow/lib/python3.10/site-packages (from matplotlib) (3.0.9)\n",
      "Requirement already satisfied: tenacity>=6.2.0 in /Users/main/miniconda3/envs/tensorflow/lib/python3.10/site-packages (from plotly) (8.2.3)\n",
      "Requirement already satisfied: ipython-genutils in /Users/main/miniconda3/envs/tensorflow/lib/python3.10/site-packages (from jupyter_contrib_nbextensions) (0.2.0)\n",
      "Requirement already satisfied: jupyter-contrib-core>=0.3.3 in /Users/main/miniconda3/envs/tensorflow/lib/python3.10/site-packages (from jupyter_contrib_nbextensions) (0.4.2)\n",
      "Requirement already satisfied: jupyter-core in /Users/main/miniconda3/envs/tensorflow/lib/python3.10/site-packages (from jupyter_contrib_nbextensions) (5.3.0)\n",
      "Requirement already satisfied: jupyter-highlight-selected-word>=0.1.1 in /Users/main/miniconda3/envs/tensorflow/lib/python3.10/site-packages (from jupyter_contrib_nbextensions) (0.2.0)\n",
      "Requirement already satisfied: jupyter-nbextensions-configurator>=0.4.0 in /Users/main/miniconda3/envs/tensorflow/lib/python3.10/site-packages (from jupyter_contrib_nbextensions) (0.6.3)\n",
      "Requirement already satisfied: nbconvert>=6.0 in /Users/main/miniconda3/envs/tensorflow/lib/python3.10/site-packages (from jupyter_contrib_nbextensions) (7.3.1)\n",
      "Requirement already satisfied: notebook>=6.0 in /Users/main/miniconda3/envs/tensorflow/lib/python3.10/site-packages (from jupyter_contrib_nbextensions) (6.5.4)\n",
      "Requirement already satisfied: tornado in /Users/main/miniconda3/envs/tensorflow/lib/python3.10/site-packages (from jupyter_contrib_nbextensions) (6.3)\n",
      "Requirement already satisfied: traitlets>=4.1 in /Users/main/miniconda3/envs/tensorflow/lib/python3.10/site-packages (from jupyter_contrib_nbextensions) (5.9.0)\n",
      "Requirement already satisfied: lxml in /Users/main/miniconda3/envs/tensorflow/lib/python3.10/site-packages (from jupyter_contrib_nbextensions) (4.9.2)\n",
      "Requirement already satisfied: setuptools in /Users/main/miniconda3/envs/tensorflow/lib/python3.10/site-packages (from jupyter-contrib-core>=0.3.3->jupyter_contrib_nbextensions) (67.7.2)\n",
      "Requirement already satisfied: pyyaml in /Users/main/miniconda3/envs/tensorflow/lib/python3.10/site-packages (from jupyter-nbextensions-configurator>=0.4.0->jupyter_contrib_nbextensions) (6.0)\n",
      "Requirement already satisfied: beautifulsoup4 in /Users/main/miniconda3/envs/tensorflow/lib/python3.10/site-packages (from nbconvert>=6.0->jupyter_contrib_nbextensions) (4.12.2)\n",
      "Requirement already satisfied: bleach in /Users/main/miniconda3/envs/tensorflow/lib/python3.10/site-packages (from nbconvert>=6.0->jupyter_contrib_nbextensions) (6.0.0)\n",
      "Requirement already satisfied: defusedxml in /Users/main/miniconda3/envs/tensorflow/lib/python3.10/site-packages (from nbconvert>=6.0->jupyter_contrib_nbextensions) (0.7.1)\n",
      "Requirement already satisfied: jinja2>=3.0 in /Users/main/miniconda3/envs/tensorflow/lib/python3.10/site-packages (from nbconvert>=6.0->jupyter_contrib_nbextensions) (3.1.2)\n",
      "Requirement already satisfied: jupyterlab-pygments in /Users/main/miniconda3/envs/tensorflow/lib/python3.10/site-packages (from nbconvert>=6.0->jupyter_contrib_nbextensions) (0.2.2)\n",
      "Requirement already satisfied: markupsafe>=2.0 in /Users/main/miniconda3/envs/tensorflow/lib/python3.10/site-packages (from nbconvert>=6.0->jupyter_contrib_nbextensions) (2.1.2)\n",
      "Requirement already satisfied: mistune<3,>=2.0.3 in /Users/main/miniconda3/envs/tensorflow/lib/python3.10/site-packages (from nbconvert>=6.0->jupyter_contrib_nbextensions) (2.0.5)\n",
      "Requirement already satisfied: nbclient>=0.5.0 in /Users/main/miniconda3/envs/tensorflow/lib/python3.10/site-packages (from nbconvert>=6.0->jupyter_contrib_nbextensions) (0.7.3)\n",
      "Requirement already satisfied: nbformat>=5.1 in /Users/main/miniconda3/envs/tensorflow/lib/python3.10/site-packages (from nbconvert>=6.0->jupyter_contrib_nbextensions) (5.8.0)\n",
      "Requirement already satisfied: pandocfilters>=1.4.1 in /Users/main/miniconda3/envs/tensorflow/lib/python3.10/site-packages (from nbconvert>=6.0->jupyter_contrib_nbextensions) (1.5.0)\n",
      "Requirement already satisfied: pygments>=2.4.1 in /Users/main/miniconda3/envs/tensorflow/lib/python3.10/site-packages (from nbconvert>=6.0->jupyter_contrib_nbextensions) (2.15.1)\n",
      "Requirement already satisfied: tinycss2 in /Users/main/miniconda3/envs/tensorflow/lib/python3.10/site-packages (from nbconvert>=6.0->jupyter_contrib_nbextensions) (1.2.1)\n",
      "Requirement already satisfied: platformdirs>=2.5 in /Users/main/miniconda3/envs/tensorflow/lib/python3.10/site-packages (from jupyter-core->jupyter_contrib_nbextensions) (3.3.0)\n",
      "Requirement already satisfied: pyzmq>=17 in /Users/main/miniconda3/envs/tensorflow/lib/python3.10/site-packages (from notebook>=6.0->jupyter_contrib_nbextensions) (25.0.2)\n",
      "Requirement already satisfied: argon2-cffi in /Users/main/miniconda3/envs/tensorflow/lib/python3.10/site-packages (from notebook>=6.0->jupyter_contrib_nbextensions) (21.3.0)\n",
      "Requirement already satisfied: jupyter-client>=5.3.4 in /Users/main/miniconda3/envs/tensorflow/lib/python3.10/site-packages (from notebook>=6.0->jupyter_contrib_nbextensions) (8.2.0)\n",
      "Requirement already satisfied: nest-asyncio>=1.5 in /Users/main/miniconda3/envs/tensorflow/lib/python3.10/site-packages (from notebook>=6.0->jupyter_contrib_nbextensions) (1.5.6)\n",
      "Requirement already satisfied: ipykernel in /Users/main/miniconda3/envs/tensorflow/lib/python3.10/site-packages (from notebook>=6.0->jupyter_contrib_nbextensions) (6.22.0)\n",
      "Requirement already satisfied: Send2Trash>=1.8.0 in /Users/main/miniconda3/envs/tensorflow/lib/python3.10/site-packages (from notebook>=6.0->jupyter_contrib_nbextensions) (1.8.0)\n",
      "Requirement already satisfied: terminado>=0.8.3 in /Users/main/miniconda3/envs/tensorflow/lib/python3.10/site-packages (from notebook>=6.0->jupyter_contrib_nbextensions) (0.17.1)\n",
      "Requirement already satisfied: prometheus-client in /Users/main/miniconda3/envs/tensorflow/lib/python3.10/site-packages (from notebook>=6.0->jupyter_contrib_nbextensions) (0.16.0)\n",
      "Requirement already satisfied: nbclassic>=0.4.7 in /Users/main/miniconda3/envs/tensorflow/lib/python3.10/site-packages (from notebook>=6.0->jupyter_contrib_nbextensions) (0.5.5)\n",
      "Requirement already satisfied: six>=1.5 in /Users/main/miniconda3/envs/tensorflow/lib/python3.10/site-packages (from python-dateutil>=2.8.2->pandas) (1.16.0)\n"
     ]
    },
    {
     "name": "stdout",
     "output_type": "stream",
     "text": [
      "Requirement already satisfied: jupyter-server>=1.8 in /Users/main/miniconda3/envs/tensorflow/lib/python3.10/site-packages (from nbclassic>=0.4.7->notebook>=6.0->jupyter_contrib_nbextensions) (2.5.0)\n",
      "Requirement already satisfied: notebook-shim>=0.1.0 in /Users/main/miniconda3/envs/tensorflow/lib/python3.10/site-packages (from nbclassic>=0.4.7->notebook>=6.0->jupyter_contrib_nbextensions) (0.2.3)\n",
      "Requirement already satisfied: fastjsonschema in /Users/main/miniconda3/envs/tensorflow/lib/python3.10/site-packages (from nbformat>=5.1->nbconvert>=6.0->jupyter_contrib_nbextensions) (2.16.3)\n",
      "Requirement already satisfied: jsonschema>=2.6 in /Users/main/miniconda3/envs/tensorflow/lib/python3.10/site-packages (from nbformat>=5.1->nbconvert>=6.0->jupyter_contrib_nbextensions) (4.17.3)\n",
      "Requirement already satisfied: ptyprocess in /Users/main/miniconda3/envs/tensorflow/lib/python3.10/site-packages (from terminado>=0.8.3->notebook>=6.0->jupyter_contrib_nbextensions) (0.7.0)\n",
      "Requirement already satisfied: argon2-cffi-bindings in /Users/main/miniconda3/envs/tensorflow/lib/python3.10/site-packages (from argon2-cffi->notebook>=6.0->jupyter_contrib_nbextensions) (21.2.0)\n",
      "Requirement already satisfied: soupsieve>1.2 in /Users/main/miniconda3/envs/tensorflow/lib/python3.10/site-packages (from beautifulsoup4->nbconvert>=6.0->jupyter_contrib_nbextensions) (2.3.2.post1)\n",
      "Requirement already satisfied: webencodings in /Users/main/miniconda3/envs/tensorflow/lib/python3.10/site-packages (from bleach->nbconvert>=6.0->jupyter_contrib_nbextensions) (0.5.1)\n",
      "Requirement already satisfied: appnope in /Users/main/miniconda3/envs/tensorflow/lib/python3.10/site-packages (from ipykernel->notebook>=6.0->jupyter_contrib_nbextensions) (0.1.3)\n",
      "Requirement already satisfied: comm>=0.1.1 in /Users/main/miniconda3/envs/tensorflow/lib/python3.10/site-packages (from ipykernel->notebook>=6.0->jupyter_contrib_nbextensions) (0.1.3)\n",
      "Requirement already satisfied: debugpy>=1.6.5 in /Users/main/miniconda3/envs/tensorflow/lib/python3.10/site-packages (from ipykernel->notebook>=6.0->jupyter_contrib_nbextensions) (1.6.7)\n",
      "Requirement already satisfied: ipython>=7.23.1 in /Users/main/miniconda3/envs/tensorflow/lib/python3.10/site-packages (from ipykernel->notebook>=6.0->jupyter_contrib_nbextensions) (8.12.0)\n",
      "Requirement already satisfied: matplotlib-inline>=0.1 in /Users/main/miniconda3/envs/tensorflow/lib/python3.10/site-packages (from ipykernel->notebook>=6.0->jupyter_contrib_nbextensions) (0.1.6)\n",
      "Requirement already satisfied: psutil in /Users/main/miniconda3/envs/tensorflow/lib/python3.10/site-packages (from ipykernel->notebook>=6.0->jupyter_contrib_nbextensions) (5.9.5)\n",
      "Requirement already satisfied: backcall in /Users/main/miniconda3/envs/tensorflow/lib/python3.10/site-packages (from ipython>=7.23.1->ipykernel->notebook>=6.0->jupyter_contrib_nbextensions) (0.2.0)\n",
      "Requirement already satisfied: decorator in /Users/main/miniconda3/envs/tensorflow/lib/python3.10/site-packages (from ipython>=7.23.1->ipykernel->notebook>=6.0->jupyter_contrib_nbextensions) (5.1.1)\n",
      "Requirement already satisfied: jedi>=0.16 in /Users/main/miniconda3/envs/tensorflow/lib/python3.10/site-packages (from ipython>=7.23.1->ipykernel->notebook>=6.0->jupyter_contrib_nbextensions) (0.18.2)\n",
      "Requirement already satisfied: pickleshare in /Users/main/miniconda3/envs/tensorflow/lib/python3.10/site-packages (from ipython>=7.23.1->ipykernel->notebook>=6.0->jupyter_contrib_nbextensions) (0.7.5)\n",
      "Requirement already satisfied: prompt-toolkit!=3.0.37,<3.1.0,>=3.0.30 in /Users/main/miniconda3/envs/tensorflow/lib/python3.10/site-packages (from ipython>=7.23.1->ipykernel->notebook>=6.0->jupyter_contrib_nbextensions) (3.0.38)\n",
      "Requirement already satisfied: stack-data in /Users/main/miniconda3/envs/tensorflow/lib/python3.10/site-packages (from ipython>=7.23.1->ipykernel->notebook>=6.0->jupyter_contrib_nbextensions) (0.6.2)\n",
      "Requirement already satisfied: pexpect>4.3 in /Users/main/miniconda3/envs/tensorflow/lib/python3.10/site-packages (from ipython>=7.23.1->ipykernel->notebook>=6.0->jupyter_contrib_nbextensions) (4.8.0)\n",
      "Requirement already satisfied: attrs>=17.4.0 in /Users/main/miniconda3/envs/tensorflow/lib/python3.10/site-packages (from jsonschema>=2.6->nbformat>=5.1->nbconvert>=6.0->jupyter_contrib_nbextensions) (22.2.0)\n",
      "Requirement already satisfied: pyrsistent!=0.17.0,!=0.17.1,!=0.17.2,>=0.14.0 in /Users/main/miniconda3/envs/tensorflow/lib/python3.10/site-packages (from jsonschema>=2.6->nbformat>=5.1->nbconvert>=6.0->jupyter_contrib_nbextensions) (0.19.3)\n",
      "Requirement already satisfied: anyio>=3.1.0 in /Users/main/miniconda3/envs/tensorflow/lib/python3.10/site-packages (from jupyter-server>=1.8->nbclassic>=0.4.7->notebook>=6.0->jupyter_contrib_nbextensions) (3.6.2)\n",
      "Requirement already satisfied: jupyter-events>=0.4.0 in /Users/main/miniconda3/envs/tensorflow/lib/python3.10/site-packages (from jupyter-server>=1.8->nbclassic>=0.4.7->notebook>=6.0->jupyter_contrib_nbextensions) (0.6.3)\n",
      "Requirement already satisfied: jupyter-server-terminals in /Users/main/miniconda3/envs/tensorflow/lib/python3.10/site-packages (from jupyter-server>=1.8->nbclassic>=0.4.7->notebook>=6.0->jupyter_contrib_nbextensions) (0.4.4)\n",
      "Requirement already satisfied: websocket-client in /Users/main/miniconda3/envs/tensorflow/lib/python3.10/site-packages (from jupyter-server>=1.8->nbclassic>=0.4.7->notebook>=6.0->jupyter_contrib_nbextensions) (1.5.1)\n",
      "Requirement already satisfied: cffi>=1.0.1 in /Users/main/miniconda3/envs/tensorflow/lib/python3.10/site-packages (from argon2-cffi-bindings->argon2-cffi->notebook>=6.0->jupyter_contrib_nbextensions) (1.15.1)\n",
      "Requirement already satisfied: idna>=2.8 in /Users/main/miniconda3/envs/tensorflow/lib/python3.10/site-packages (from anyio>=3.1.0->jupyter-server>=1.8->nbclassic>=0.4.7->notebook>=6.0->jupyter_contrib_nbextensions) (3.4)\n",
      "Requirement already satisfied: sniffio>=1.1 in /Users/main/miniconda3/envs/tensorflow/lib/python3.10/site-packages (from anyio>=3.1.0->jupyter-server>=1.8->nbclassic>=0.4.7->notebook>=6.0->jupyter_contrib_nbextensions) (1.3.0)\n",
      "Requirement already satisfied: pycparser in /Users/main/miniconda3/envs/tensorflow/lib/python3.10/site-packages (from cffi>=1.0.1->argon2-cffi-bindings->argon2-cffi->notebook>=6.0->jupyter_contrib_nbextensions) (2.21)\n",
      "Requirement already satisfied: parso<0.9.0,>=0.8.0 in /Users/main/miniconda3/envs/tensorflow/lib/python3.10/site-packages (from jedi>=0.16->ipython>=7.23.1->ipykernel->notebook>=6.0->jupyter_contrib_nbextensions) (0.8.3)\n",
      "Requirement already satisfied: python-json-logger>=2.0.4 in /Users/main/miniconda3/envs/tensorflow/lib/python3.10/site-packages (from jupyter-events>=0.4.0->jupyter-server>=1.8->nbclassic>=0.4.7->notebook>=6.0->jupyter_contrib_nbextensions) (2.0.7)\n",
      "Requirement already satisfied: rfc3339-validator in /Users/main/miniconda3/envs/tensorflow/lib/python3.10/site-packages (from jupyter-events>=0.4.0->jupyter-server>=1.8->nbclassic>=0.4.7->notebook>=6.0->jupyter_contrib_nbextensions) (0.1.4)\n",
      "Requirement already satisfied: rfc3986-validator>=0.1.1 in /Users/main/miniconda3/envs/tensorflow/lib/python3.10/site-packages (from jupyter-events>=0.4.0->jupyter-server>=1.8->nbclassic>=0.4.7->notebook>=6.0->jupyter_contrib_nbextensions) (0.1.1)\n",
      "Requirement already satisfied: wcwidth in /Users/main/miniconda3/envs/tensorflow/lib/python3.10/site-packages (from prompt-toolkit!=3.0.37,<3.1.0,>=3.0.30->ipython>=7.23.1->ipykernel->notebook>=6.0->jupyter_contrib_nbextensions) (0.2.6)\n",
      "Requirement already satisfied: executing>=1.2.0 in /Users/main/miniconda3/envs/tensorflow/lib/python3.10/site-packages (from stack-data->ipython>=7.23.1->ipykernel->notebook>=6.0->jupyter_contrib_nbextensions) (1.2.0)\n",
      "Requirement already satisfied: asttokens>=2.1.0 in /Users/main/miniconda3/envs/tensorflow/lib/python3.10/site-packages (from stack-data->ipython>=7.23.1->ipykernel->notebook>=6.0->jupyter_contrib_nbextensions) (2.2.1)\n",
      "Requirement already satisfied: pure-eval in /Users/main/miniconda3/envs/tensorflow/lib/python3.10/site-packages (from stack-data->ipython>=7.23.1->ipykernel->notebook>=6.0->jupyter_contrib_nbextensions) (0.2.2)\n",
      "Requirement already satisfied: fqdn in /Users/main/miniconda3/envs/tensorflow/lib/python3.10/site-packages (from jsonschema>=2.6->nbformat>=5.1->nbconvert>=6.0->jupyter_contrib_nbextensions) (1.5.1)\n",
      "Requirement already satisfied: isoduration in /Users/main/miniconda3/envs/tensorflow/lib/python3.10/site-packages (from jsonschema>=2.6->nbformat>=5.1->nbconvert>=6.0->jupyter_contrib_nbextensions) (20.11.0)\n",
      "Requirement already satisfied: jsonpointer>1.13 in /Users/main/miniconda3/envs/tensorflow/lib/python3.10/site-packages (from jsonschema>=2.6->nbformat>=5.1->nbconvert>=6.0->jupyter_contrib_nbextensions) (2.3)\n",
      "Requirement already satisfied: uri-template in /Users/main/miniconda3/envs/tensorflow/lib/python3.10/site-packages (from jsonschema>=2.6->nbformat>=5.1->nbconvert>=6.0->jupyter_contrib_nbextensions) (1.2.0)\n",
      "Requirement already satisfied: webcolors>=1.11 in /Users/main/miniconda3/envs/tensorflow/lib/python3.10/site-packages (from jsonschema>=2.6->nbformat>=5.1->nbconvert>=6.0->jupyter_contrib_nbextensions) (1.13)\n"
     ]
    },
    {
     "name": "stdout",
     "output_type": "stream",
     "text": [
      "Requirement already satisfied: arrow>=0.15.0 in /Users/main/miniconda3/envs/tensorflow/lib/python3.10/site-packages (from isoduration->jsonschema>=2.6->nbformat>=5.1->nbconvert>=6.0->jupyter_contrib_nbextensions) (1.2.3)\n",
      "Note: you may need to restart the kernel to use updated packages.\n"
     ]
    }
   ],
   "source": [
    "pip install numpy pandas matplotlib plotly seaborn jupyter_contrib_nbextensions"
   ]
  },
  {
   "cell_type": "code",
   "execution_count": 8,
   "id": "3dd6686e",
   "metadata": {},
   "outputs": [],
   "source": [
    "import csv\n",
    "import numpy as np\n",
    "import pandas as pd\n",
    "import matplotlib\n",
    "import plotly\n",
    "import seaborn as sns\n",
    "import tensorflow as tf\n",
    "import tensorflow.keras\n",
    "import jupyter_contrib_nbextensions"
   ]
  },
  {
   "cell_type": "markdown",
   "id": "deb3b200",
   "metadata": {},
   "source": [
    "# 1. DATA LOADING & INSPECTION"
   ]
  },
  {
   "cell_type": "code",
   "execution_count": 5,
   "id": "f6be2ce4",
   "metadata": {},
   "outputs": [],
   "source": [
    "df = pd.read_csv(\"oneskydata.csv\")"
   ]
  },
  {
   "cell_type": "code",
   "execution_count": 7,
   "id": "652159ba",
   "metadata": {},
   "outputs": [
    {
     "name": "stdout",
     "output_type": "stream",
     "text": [
      "<class 'pandas.core.frame.DataFrame'>\n",
      "RangeIndex: 58767 entries, 0 to 58766\n",
      "Data columns (total 22 columns):\n",
      " #   Column        Non-Null Count  Dtype  \n",
      "---  ------        --------------  -----  \n",
      " 0   id            58767 non-null  int64  \n",
      " 1   device_id     58767 non-null  object \n",
      " 2   reading_time  58767 non-null  object \n",
      " 3   pm25          57835 non-null  float64\n",
      " 4   db            57835 non-null  float64\n",
      " 5   co2           57835 non-null  float64\n",
      " 6   voc           57835 non-null  float64\n",
      " 7   no2           57835 non-null  float64\n",
      " 8   co            57835 non-null  float64\n",
      " 9   no            57835 non-null  float64\n",
      " 10  pm1           57835 non-null  float64\n",
      " 11  pm10          57835 non-null  float64\n",
      " 12  humidity      57835 non-null  float64\n",
      " 13  temprature    57835 non-null  float64\n",
      " 14  pressure      57835 non-null  float64\n",
      " 15  battery       57835 non-null  float64\n",
      " 16  signal        58767 non-null  int64  \n",
      " 17  sv            58767 non-null  object \n",
      " 18  ps            58767 non-null  bool   \n",
      " 19  latitude      58767 non-null  object \n",
      " 20  longitude     58767 non-null  object \n",
      " 21  message_time  58767 non-null  object \n",
      "dtypes: bool(1), float64(13), int64(2), object(6)\n",
      "memory usage: 9.5+ MB\n"
     ]
    }
   ],
   "source": [
    "df.info()\n",
    "# id - reading;\n",
    "# device_id - various devices\n",
    "# pm25 - particles less than 2.5\n",
    "# db - decibels\n",
    "# co2 - carbon dioxide \n",
    "# voc - gases (volatile organic compounds)\n",
    "# no2 - nitrogen\n",
    "# co - carbon monoxide\n",
    "# pm1 - 1 micrometer\n",
    "# pm10 - 10 micrometers\n",
    "# humidity - percent\n",
    "# battery - device battery (possibly in mAh)\n",
    "# sv - possibly software version ( ex: 0.01.18 --> 0.01.19)\n",
    "# ps - possibly power status (cherged/not-charged)\n",
    "# latitude & longitude - location, however missing from some readings\n",
    "# message time - possibly time when information is received, whereas\n",
    "# reading time - is possible when information is read"
   ]
  },
  {
   "cell_type": "code",
   "execution_count": 14,
   "id": "541f03ab",
   "metadata": {},
   "outputs": [
    {
     "data": {
      "text/html": [
       "<div>\n",
       "<style scoped>\n",
       "    .dataframe tbody tr th:only-of-type {\n",
       "        vertical-align: middle;\n",
       "    }\n",
       "\n",
       "    .dataframe tbody tr th {\n",
       "        vertical-align: top;\n",
       "    }\n",
       "\n",
       "    .dataframe thead th {\n",
       "        text-align: right;\n",
       "    }\n",
       "</style>\n",
       "<table border=\"1\" class=\"dataframe\">\n",
       "  <thead>\n",
       "    <tr style=\"text-align: right;\">\n",
       "      <th></th>\n",
       "      <th>pm25</th>\n",
       "    </tr>\n",
       "  </thead>\n",
       "  <tbody>\n",
       "    <tr>\n",
       "      <th>min</th>\n",
       "      <td>0.000000</td>\n",
       "    </tr>\n",
       "    <tr>\n",
       "      <th>max</th>\n",
       "      <td>802.000000</td>\n",
       "    </tr>\n",
       "    <tr>\n",
       "      <th>median</th>\n",
       "      <td>6.000000</td>\n",
       "    </tr>\n",
       "    <tr>\n",
       "      <th>skew</th>\n",
       "      <td>4.227023</td>\n",
       "    </tr>\n",
       "  </tbody>\n",
       "</table>\n",
       "</div>"
      ],
      "text/plain": [
       "              pm25\n",
       "min       0.000000\n",
       "max     802.000000\n",
       "median    6.000000\n",
       "skew      4.227023"
      ]
     },
     "execution_count": 14,
     "metadata": {},
     "output_type": "execute_result"
    }
   ],
   "source": [
    "df.agg(\n",
    "    {\n",
    "        \"pm25\": [\"min\", \"max\", \"median\", \"skew\"],\n",
    "        \n",
    "    }\n",
    ")"
   ]
  },
  {
   "cell_type": "markdown",
   "id": "d9f86cb7",
   "metadata": {},
   "source": [
    "# 2. DATA PREPROCESSING"
   ]
  },
  {
   "cell_type": "code",
   "execution_count": 17,
   "id": "32ec54ca",
   "metadata": {},
   "outputs": [
    {
     "name": "stdout",
     "output_type": "stream",
     "text": [
      "<class 'pandas.core.frame.DataFrame'>\n",
      "Index: 57835 entries, 0 to 58766\n",
      "Data columns (total 22 columns):\n",
      " #   Column        Non-Null Count  Dtype  \n",
      "---  ------        --------------  -----  \n",
      " 0   id            57835 non-null  int64  \n",
      " 1   device_id     57835 non-null  object \n",
      " 2   reading_time  57835 non-null  object \n",
      " 3   pm25          57835 non-null  float64\n",
      " 4   db            57835 non-null  float64\n",
      " 5   co2           57835 non-null  float64\n",
      " 6   voc           57835 non-null  float64\n",
      " 7   no2           57835 non-null  float64\n",
      " 8   co            57835 non-null  float64\n",
      " 9   no            57835 non-null  float64\n",
      " 10  pm1           57835 non-null  float64\n",
      " 11  pm10          57835 non-null  float64\n",
      " 12  humidity      57835 non-null  float64\n",
      " 13  temprature    57835 non-null  float64\n",
      " 14  pressure      57835 non-null  float64\n",
      " 15  battery       57835 non-null  float64\n",
      " 16  signal        57835 non-null  int64  \n",
      " 17  sv            57835 non-null  object \n",
      " 18  ps            57835 non-null  bool   \n",
      " 19  latitude      57835 non-null  object \n",
      " 20  longitude     57835 non-null  object \n",
      " 21  message_time  57835 non-null  object \n",
      "dtypes: bool(1), float64(13), int64(2), object(6)\n",
      "memory usage: 9.8+ MB\n"
     ]
    }
   ],
   "source": [
    "df.dropna(inplace=True)\n",
    "df.info()"
   ]
  },
  {
   "cell_type": "code",
   "execution_count": 18,
   "id": "bdf7989b",
   "metadata": {},
   "outputs": [
    {
     "name": "stdout",
     "output_type": "stream",
     "text": [
      "             id     device_id             reading_time   pm25    db  co2   \n",
      "100    10501451  4C11AEADF0DC  2023-10-09 08:00:01.000  279.0   0.0  0.0  \\\n",
      "101    10501452  4C11AEADF0DC  2023-10-09 08:01:01.000  283.0   0.0  0.0   \n",
      "102    10501453  4C11AEADF0DC  2023-10-09 08:02:01.000  292.0   0.0  0.0   \n",
      "104    10501461  4C11AEADF0DC  2023-10-09 08:05:01.000  293.0   0.0  0.0   \n",
      "105    10501462  4C11AEADF0DC  2023-10-09 08:06:01.000  299.0   0.0  0.0   \n",
      "...         ...           ...                      ...    ...   ...  ...   \n",
      "58762   6860576  E831CD848A1C  2023-01-24 08:16:01.000   22.0  59.0  0.0   \n",
      "58763   6860577  E831CD848A1C  2023-01-24 08:17:01.000   23.0  58.0  0.0   \n",
      "58764   6860578  E831CD848A1C  2023-01-24 08:18:01.000   22.0  56.0  0.0   \n",
      "58765   6860645  E831CD848A1C  2023-01-24 08:25:01.000   23.0  57.0  0.0   \n",
      "58766   6860648  E831CD848A1C  2023-01-24 08:28:01.000   19.0  55.0  0.0   \n",
      "\n",
      "         voc  no2   co   no  ...  humidity  temprature  pressure  battery   \n",
      "100    125.0  0.0  0.0  0.0  ...      63.0        24.0    1009.0   4024.0  \\\n",
      "101    135.0  0.0  0.0  0.0  ...      63.0        24.0    1009.0   4024.0   \n",
      "102    133.0  0.0  0.0  0.0  ...      63.0        24.0    1009.0   4024.0   \n",
      "104    137.0  0.0  0.0  0.0  ...      63.0        24.0    1009.0   4024.0   \n",
      "105    136.0  0.0  0.0  0.0  ...      62.0        24.0    1009.0   4024.0   \n",
      "...      ...  ...  ...  ...  ...       ...         ...       ...      ...   \n",
      "58762   33.0  0.0  0.0  0.0  ...      71.0         6.0    1030.0   4115.0   \n",
      "58763   33.0  0.0  0.0  0.0  ...      71.0         6.0    1030.0   4123.0   \n",
      "58764   42.0  0.0  0.0  0.0  ...      71.0         6.0    1030.0   4123.0   \n",
      "58765   40.0  0.0  0.0  0.0  ...      71.0         6.0    1030.0   4115.0   \n",
      "58766   37.0  0.0  0.0  0.0  ...      70.0         6.0    1030.0   4115.0   \n",
      "\n",
      "       signal       sv    ps   latitude  longitude             message_time  \n",
      "100         8  0.01.19  True  51186586N  00156474W  2023-09-10 09:00:10.000  \n",
      "101         8  0.01.19  True  51186586N  00156474W  2023-09-10 09:00:10.000  \n",
      "102         8  0.01.19  True  51186586N  00156474W  2023-09-10 09:00:10.000  \n",
      "104         8  0.01.19  True  51186586N  00156474W  2023-09-10 09:00:34.000  \n",
      "105         8  0.01.19  True  51186586N  00156474W  2023-09-10 09:00:34.000  \n",
      "...       ...      ...   ...        ...        ...                      ...  \n",
      "58762      18  0.01.18  True  51226318N  00031911W  2023-01-24 09:01:25.000  \n",
      "58763      18  0.01.18  True  51226318N  00031911W  2023-01-24 09:01:25.000  \n",
      "58764      18  0.01.18  True  51226318N  00031911W  2023-01-24 09:01:25.000  \n",
      "58765      18  0.01.18  True  51226318N  00031911W  2023-01-24 09:02:12.000  \n",
      "58766      18  0.01.18  True  51226318N  00031911W  2023-01-24 09:02:12.000  \n",
      "\n",
      "[43330 rows x 22 columns]\n"
     ]
    }
   ],
   "source": [
    "#deleting cells with comma (no location)\n",
    "mask = df.apply(lambda x: x.str.contains(',') if x.dtype == \"object\" else False, axis=1).any(axis=1)\n",
    "df = df[~mask]\n",
    "\n",
    "print(df)"
   ]
  },
  {
   "cell_type": "code",
   "execution_count": 29,
   "id": "8b58fef0",
   "metadata": {},
   "outputs": [
    {
     "name": "stdout",
     "output_type": "stream",
     "text": [
      "<class 'pandas.core.frame.DataFrame'>\n",
      "Index: 43330 entries, 100 to 58766\n",
      "Data columns (total 22 columns):\n",
      " #   Column        Non-Null Count  Dtype         \n",
      "---  ------        --------------  -----         \n",
      " 0   id            43330 non-null  int64         \n",
      " 1   device_id     43330 non-null  object        \n",
      " 2   reading_time  43330 non-null  datetime64[ns]\n",
      " 3   pm25          43330 non-null  float64       \n",
      " 4   db            43330 non-null  float64       \n",
      " 5   co2           43330 non-null  float64       \n",
      " 6   voc           43330 non-null  float64       \n",
      " 7   no2           43330 non-null  float64       \n",
      " 8   co            43330 non-null  float64       \n",
      " 9   no            43330 non-null  float64       \n",
      " 10  pm1           43330 non-null  float64       \n",
      " 11  pm10          43330 non-null  float64       \n",
      " 12  humidity      43330 non-null  float64       \n",
      " 13  temprature    43330 non-null  float64       \n",
      " 14  pressure      43330 non-null  float64       \n",
      " 15  battery       43330 non-null  float64       \n",
      " 16  signal        43330 non-null  int64         \n",
      " 17  sv            43330 non-null  object        \n",
      " 18  ps            43330 non-null  bool          \n",
      " 19  latitude      43330 non-null  object        \n",
      " 20  longitude     43330 non-null  object        \n",
      " 21  message_time  43330 non-null  object        \n",
      "dtypes: bool(1), datetime64[ns](1), float64(13), int64(2), object(5)\n",
      "memory usage: 7.3+ MB\n"
     ]
    }
   ],
   "source": [
    "# convert dates to datetime objects\n",
    "\n",
    "#df['reading_time'] = pd.to_datetime(df['reading_time'])\n",
    "df.loc[:, 'reading_time'] = pd.to_datetime(df['reading_time'])\n",
    "df.info()"
   ]
  },
  {
   "cell_type": "code",
   "execution_count": 33,
   "id": "e148b6f6",
   "metadata": {},
   "outputs": [
    {
     "name": "stdout",
     "output_type": "stream",
     "text": [
      "<class 'pandas.core.frame.DataFrame'>\n",
      "Index: 43330 entries, 100 to 58766\n",
      "Data columns (total 22 columns):\n",
      " #   Column        Non-Null Count  Dtype         \n",
      "---  ------        --------------  -----         \n",
      " 0   id            43330 non-null  int64         \n",
      " 1   device_id     43330 non-null  object        \n",
      " 2   reading_time  43330 non-null  datetime64[ns]\n",
      " 3   pm25          43330 non-null  float64       \n",
      " 4   db            43330 non-null  float64       \n",
      " 5   co2           43330 non-null  float64       \n",
      " 6   voc           43330 non-null  float64       \n",
      " 7   no2           43330 non-null  float64       \n",
      " 8   co            43330 non-null  float64       \n",
      " 9   no            43330 non-null  float64       \n",
      " 10  pm1           43330 non-null  float64       \n",
      " 11  pm10          43330 non-null  float64       \n",
      " 12  humidity      43330 non-null  float64       \n",
      " 13  temprature    43330 non-null  float64       \n",
      " 14  pressure      43330 non-null  float64       \n",
      " 15  battery       43330 non-null  float64       \n",
      " 16  signal        43330 non-null  int64         \n",
      " 17  sv            43330 non-null  object        \n",
      " 18  ps            43330 non-null  bool          \n",
      " 19  latitude      43330 non-null  object        \n",
      " 20  longitude     43330 non-null  object        \n",
      " 21  message_time  43330 non-null  datetime64[ns]\n",
      "dtypes: bool(1), datetime64[ns](2), float64(13), int64(2), object(4)\n",
      "memory usage: 7.3+ MB\n"
     ]
    }
   ],
   "source": [
    "# uncheck if warning about slices is given/not converting to datetime64\n",
    "# df['message_time'] = pd.to_datetime(df['message_time']) \n",
    "df.loc[:, 'message_time'] = pd.to_datetime(df['message_time'])\n",
    "\n",
    "df.info()"
   ]
  },
  {
   "cell_type": "markdown",
   "id": "eb2566c1",
   "metadata": {},
   "source": [
    "# 3. EXPLORING THE DATASET "
   ]
  },
  {
   "cell_type": "code",
   "execution_count": null,
   "id": "f104a392",
   "metadata": {},
   "outputs": [],
   "source": []
  },
  {
   "cell_type": "markdown",
   "id": "b03d3b9d",
   "metadata": {},
   "source": [
    "TODO: \n",
    "    1. summaries for pollutants/histograms/anything that makes a significant point on their distribution\n",
    "    2. time series analysis?? "
   ]
  },
  {
   "cell_type": "markdown",
   "id": "652e1607",
   "metadata": {},
   "source": [
    "# Task2 – Develop a list of data sets required within the new customer portal\n",
    "\n",
    "Dataset 1: Air quality readings\n",
    "- ID\n",
    "- PM1\n",
    "- PM2.5\n",
    "- PM10\n",
    "- CO\n",
    "- CO2\n",
    "- NO\n",
    "- NO2\n",
    "- VOC\n",
    "\n",
    "Dataset 2: Environment readings\n",
    "- ID\n",
    "- Humidity\n",
    "- Temperature\n",
    "- Pressure \n",
    "\n",
    "Dataset 3: Device Data\n",
    "- ID\n",
    "- Device ID\n",
    "- Mode(ps) - maybe power? \n",
    "- Software version (assuming sv is it) \n",
    "\n",
    "Dataset 4: Geolocation Data\n",
    "- ID\n",
    "- Longitute\n",
    "- Latitude\n",
    "- Decibels (sound pollution related to geo)\n",
    "\n",
    "Dataset 5: Event Logging \n",
    "- ID \n",
    "- Reading Time\n",
    "- Message Time\n"
   ]
  },
  {
   "cell_type": "markdown",
   "id": "9fbe5ef1",
   "metadata": {},
   "source": [
    "# 4. DATA VISUALISATION"
   ]
  },
  {
   "cell_type": "markdown",
   "id": "f5446ff8",
   "metadata": {},
   "source": [
    "TODO: 1. seaborn, matplotlib (scatter plots (on different levels of particles), bar charts...) on Ch3 points 2. geopy for location 3. time series? again for showing the changes over time\n"
   ]
  },
  {
   "cell_type": "markdown",
   "id": "c168aa72",
   "metadata": {},
   "source": [
    "# TASK 3 - Develop a list of visuals required within the new customer portal\n",
    "\n",
    "1. Time Series Analysis - air quality metrics over time in that location (if above WHO standard)\n",
    "- ID\n",
    "- PM1 - n/a \n",
    "- PM2.5 - 5 (24h mean)\n",
    "- PM10 - 15 (24h mean)\n",
    "- CO - 35 (1h mean)\n",
    "- CO2 - n/a\n",
    "- NO & No2- 200 (1h mean)\n",
    "- VOC - N/a\n",
    "- longitute\n",
    "- latitude\n",
    "\n",
    "Update 01.13/16h\n",
    "The Pm1, Pm2.5 & Pm10 is in union, meaning pm1 is a subset of Pm2.5 and subset of pm10. Thus, I will drop pm1 and pm10, focusing on the middle subset, which has the highest chance to represent the category as a whole. \n",
    "I will drop Co2, as no guideline where it becomes bad by WHO has been found\n",
    "I will add no and no2 together as they are usually referred together and will create a new column named nitrogen\n",
    "I will drop VOC as even though it's harmful, I could not find the exact guideline based on regulations\n",
    "I will also drop non location entries, empty entries, anything that does not help establishing a prediction over the location\n",
    "\n",
    "Thus the updated parameters:\n",
    "- ID\n",
    "- reading_time\n",
    "- pm25\n",
    "- co\n",
    "- nitrogen \n",
    "- longitute\n",
    "- latitude\n",
    "\n",
    "\n",
    "2. Heat Map where the pollution is biggest based on location\n",
    "3. Overlaying heat maps with air quality metrics?? \n",
    "4. Data dashboard - summary of key metrics"
   ]
  },
  {
   "cell_type": "markdown",
   "id": "e6092e52",
   "metadata": {},
   "source": [
    "# 5. ANY FANCY ANALYSIS "
   ]
  },
  {
   "cell_type": "markdown",
   "id": "6308d15d",
   "metadata": {},
   "source": [
    "TODO POSSIBLY: 1. correlation between particles & heatmap on findings 2. Other datasets? such as investigating how environment is correlated to these particle trends"
   ]
  },
  {
   "cell_type": "code",
   "execution_count": null,
   "id": "b3ce8018",
   "metadata": {},
   "outputs": [],
   "source": []
  }
 ],
 "metadata": {
  "kernelspec": {
   "display_name": "Python 3.10 (tensorflow)",
   "language": "python",
   "name": "tensorflow"
  },
  "language_info": {
   "codemirror_mode": {
    "name": "ipython",
    "version": 3
   },
   "file_extension": ".py",
   "mimetype": "text/x-python",
   "name": "python",
   "nbconvert_exporter": "python",
   "pygments_lexer": "ipython3",
   "version": "3.10.10"
  }
 },
 "nbformat": 4,
 "nbformat_minor": 5
}
